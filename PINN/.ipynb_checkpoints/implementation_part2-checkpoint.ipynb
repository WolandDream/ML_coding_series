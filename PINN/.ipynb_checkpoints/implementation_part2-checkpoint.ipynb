{
 "cells": [
  {
   "cell_type": "code",
   "execution_count": 1,
   "id": "5c90e841",
   "metadata": {},
   "outputs": [],
   "source": [
    "import jax\n",
    "from jax import numpy as jnp"
   ]
  },
  {
   "cell_type": "code",
   "execution_count": 2,
   "id": "9062aa09",
   "metadata": {},
   "outputs": [
    {
     "ename": "NameError",
     "evalue": "name 'eqx' is not defined",
     "output_type": "error",
     "traceback": [
      "\u001b[0;31m---------------------------------------------------------------------------\u001b[0m",
      "\u001b[0;31mNameError\u001b[0m                                 Traceback (most recent call last)",
      "Cell \u001b[0;32mIn[2], line 1\u001b[0m\n\u001b[0;32m----> 1\u001b[0m \u001b[38;5;28;01mclass\u001b[39;00m \u001b[38;5;21;01mPositionalQuaternionNN\u001b[39;00m(\u001b[43meqx\u001b[49m\u001b[38;5;241m.\u001b[39mModule):\n\u001b[1;32m      2\u001b[0m     layers: \u001b[38;5;28mlist\u001b[39m\n\u001b[1;32m      3\u001b[0m     final_laryer_r: eqx\u001b[38;5;241m.\u001b[39mModule\n",
      "\u001b[0;31mNameError\u001b[0m: name 'eqx' is not defined"
     ]
    }
   ],
   "source": [
    "class PositionalQuaternionNN(eqx.Module):\n",
    "    layers: list\n",
    "    final_laryer_r: eqx.Module\n",
    "    final_laryer_theta: eqx.Module\n",
    "    final_laryer_v: eqx.Module\n",
    "        \n",
    "    \n",
    "    def __init__(self, key, hidden_dim = 128, hidden_num = 4):\n",
    "        # Create random keys for initializing weights\n",
    "        key1, key2, key3, key4, key5 = jax.random.split(5)\n",
    "        \n",
    "        self.layers = []\n",
    "        self.layers.append(eqx.nn.Linear(1, hidden_dim, key = key1))\n",
    "        for hidden_idx in range(hidden_num):\n",
    "            key2, subkey = jax.random.split(key2)\n",
    "            self.layers.append(eqx.nn.Linear(hidden_dim, hidden_dim, key = key2))\n",
    "        \n",
    "        # Define the final layer for r(t), theta, and v\n",
    "        self.final_laryer_r = eqx.nn.Linear(hidden_dim, 3, key = key3)\n",
    "        self.final_laryer_theta = eqx.nn.Linear(hidden_dim, 1, key = key4)\n",
    "        self.final_laryer_v = eqx.nn.Linear(hidden_dim, 3, key = key5)\n",
    "        \n",
    "        \n",
    "    def __call__(self, t):\n",
    "        # Forward pass through shared layers\n",
    "        \n",
    "        x = t\n",
    "        for layer in self.layers:\n",
    "            x = jax.nn.sigmoid(layer(x))\n",
    "            \n",
    "        # Compute r(t)\n",
    "        r_t = self.final_laryer_r(x)\n",
    "        \n",
    "        \n",
    "        # Compute theta\n",
    "        theta = self.final_laryer_theta(x)\n",
    "        \n",
    "        # Compute v (unit vector part of the quaternion)\n",
    "        v = self.final_laryer_v(x)\n",
    "        v /= jnp.linalg.norm(v, axis = -1, keepdims=True) # Normalize to ensure a unit vector\n",
    "        \n",
    "        # Angle components of the quaternion\n",
    "        scalar_part = jnp.cos(theta)\n",
    "        vector_part = v * jnp.sin(theta)\n",
    "        \n",
    "        q_t = jnp.concatenate([scalar_part, vector_part], axis = -1)\n",
    "        \n",
    "        return r_t, q_t\n",
    "    \n",
    "\n",
    "# Define the physical law for gyroscope\n",
    "def gyroscope_model(pose, t):\n",
    "    \n",
    "    dq_dt = jax.jacrev(lambda t: pose(t)[1])\n",
    "    d_dot = dq_dt(t)\n",
    "    \n",
    "    _, q_t = pose(t)\n",
    "    q_t_conjugate = quaternion_conjugate(q_t)\n",
    "    \n",
    "    q_omega = quaternion_product(q_dot, q_t_conjugate)\n",
    "    _, vec_omega = quaternion_scalar_and_vector(q_omega)\n",
    "    omega = 2 * vec_omega\n",
    "    \n",
    "    return omega\n",
    "\n",
    "# Define the physical law for accelerometer\n",
    "def accelerometer_model(pose, t):\n",
    "    \n",
    "    r_q, q_t = pose(t)\n",
    "    q_t_conjugate = quaternion_conjugate(q_t)\n",
    "    \n",
    "    d2r_dt2 = jax.jacrev(jax.jacrev(lambda t: pose(t)[0]))\n",
    "    gravity_acc = jnp.array([0, 0, -9.81])\n",
    "    \n",
    "    vec_acc_true = d2r_dt2(t).squeeze() - gravity_acc\n",
    "    q_acc_true = jnp.concatenate([jnp.array([0]), vel_acc_true], axis = -1)\n",
    "    \n",
    "    q_acc = quaternion_product(q_t_conjugate, quaternion_product(q_acc_true, q_t))\n",
    "    \n",
    "    _, acc = quaternion_scalar_and_vector(q_acc)\n",
    "    \n",
    "    return acc"
   ]
  },
  {
   "cell_type": "code",
   "execution_count": null,
   "id": "643e5f0d",
   "metadata": {},
   "outputs": [],
   "source": []
  }
 ],
 "metadata": {
  "kernelspec": {
   "display_name": "Python 3 (ipykernel)",
   "language": "python",
   "name": "python3"
  },
  "language_info": {
   "codemirror_mode": {
    "name": "ipython",
    "version": 3
   },
   "file_extension": ".py",
   "mimetype": "text/x-python",
   "name": "python",
   "nbconvert_exporter": "python",
   "pygments_lexer": "ipython3",
   "version": "3.9.7"
  }
 },
 "nbformat": 4,
 "nbformat_minor": 5
}
