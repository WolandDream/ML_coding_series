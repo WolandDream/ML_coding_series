{
 "cells": [
  {
   "cell_type": "markdown",
   "id": "bad320cb",
   "metadata": {},
   "source": [
    "### Tutorial 4. Periodic boundary conditions"
   ]
  },
  {
   "cell_type": "code",
   "execution_count": 3,
   "id": "5d692672",
   "metadata": {},
   "outputs": [],
   "source": [
    "import torch\n",
    "import e3nn\n",
    "import ase\n",
    "import ase.neighborlist\n",
    "import torch_geometric\n",
    "import torch_geometric.data\n",
    "\n",
    "default_dtype = torch.float64\n",
    "torch.set_default_dtype(default_dtype)"
   ]
  },
  {
   "cell_type": "code",
   "execution_count": 5,
   "id": "f3460ffa",
   "metadata": {},
   "outputs": [],
   "source": [
    "# Creating a lattice\n",
    "\n",
    "# A lattice is a 3x3 matrix\n",
    "# The first index is the lattice vector (a, b, c)\n",
    "# The second index is a Cartesian index over (x, y, z)\n",
    "\n",
    "# Polonium with Simple Cubic Lattice\n",
    "po_lattice = torch.eye(3) * 3.340 # Cubic lattice with edges of length 3.34 AA\n",
    "po_coords = torch.tensor([[0., 0., 0.]])\n",
    "po_types = ['Po']\n",
    "\n",
    "# Silicon with a Diamond Structure\n",
    "si_lattice = torch.tensor([\n",
    "    [0., 2.734364, 2.734364],\n",
    "    [2.734364, 0., 2.734364],\n",
    "    [2.734364, 2.734364, 0.]\n",
    "])\n",
    "\n",
    "si_coords = torch.tensor([\n",
    "    [2.734364/2., 2.734364/2., 2.734364/2.],\n",
    "    [0.         , 0.         , 0.]\n",
    "])\n",
    "\n",
    "si_types = ['Si', 'Si']\n",
    "\n",
    "po = ase.Atoms(symbols=po_types, positions=po_coords, cell = po_lattice, pbc = True)\n",
    "si = ase.Atoms(symbols=si_types, positions=si_coords, cell = si_lattice, pbc = True)"
   ]
  },
  {
   "cell_type": "code",
   "execution_count": 7,
   "id": "edd25512",
   "metadata": {},
   "outputs": [
    {
     "name": "stdout",
     "output_type": "stream",
     "text": [
      "[Data(x=[1, 2], edge_index=[2, 7], pos=[1, 3], lattice=[1, 3, 3], edge_shift=[7, 3], energy=[1, 1]), Data(x=[2, 2], edge_index=[2, 10], pos=[2, 3], lattice=[1, 3, 3], edge_shift=[10, 3], energy=[1, 1])]\n"
     ]
    }
   ],
   "source": [
    "# Generate graph with neighborlist\n",
    "radial_cutoff = 3.5 # Only include edges for neighboring atoms within a radius of 3.5 Angstrom\n",
    "type_encoding = {'Po':0, 'Si': 1}\n",
    "type_onehot = torch.eye(len(type_encoding))\n",
    "\n",
    "dataset = []\n",
    "\n",
    "\n",
    "dummy_energies = torch.randn(2, 1, 1) # dummy energies for example\n",
    "\n",
    "for crystal, energy in zip([po, si], dummy_energies):\n",
    "    # edge src and edge_dst are the indices of the central and neighboring atoms, respectively\n",
    "    # edge_shift indicates whether the neighbors are in different images / copies of the unit cell\n",
    "    edge_src, edge_dst, edge_shift = ase.neighborlist.neighbor_list('ijS', a = crystal, cutoff = radial_cutoff, \n",
    "                                                                    self_interaction = True)\n",
    "    \n",
    "    data = torch_geometric.data.Data(\n",
    "        pos = torch.tensor(crystal.get_positions()),\n",
    "        lattice = torch.tensor(crystal.cell.array).unsqueeze(0), # We add dimention for batching\n",
    "        x = type_onehot[[type_encoding[atom] for atom in crystal.symbols]], # Using 'dummy' inputs of scalarcs because they are all C\n",
    "        edge_index = torch.stack([torch.LongTensor(edge_src), torch.LongTensor(edge_dst)], dim = 0),\n",
    "        edge_shift = torch.tensor(edge_shift, dtype = default_dtype),\n",
    "        energy = energy # dummy energy (assumed to be normalized \"per atom\")\n",
    "    )\n",
    "    \n",
    "    dataset.append(data)\n",
    "    \n",
    "print(dataset)"
   ]
  },
  {
   "cell_type": "code",
   "execution_count": 8,
   "id": "d9963a1f",
   "metadata": {},
   "outputs": [
    {
     "name": "stdout",
     "output_type": "stream",
     "text": [
      "DataBatch(x=[3, 2], edge_index=[2, 17], pos=[3, 3], lattice=[2, 3, 3], edge_shift=[17, 3], energy=[2, 1], batch=[3], ptr=[3])\n",
      "tensor([0, 1, 1])\n",
      "tensor([[0.0000, 0.0000, 0.0000],\n",
      "        [1.3672, 1.3672, 1.3672],\n",
      "        [0.0000, 0.0000, 0.0000]])\n",
      "tensor([[1., 0.],\n",
      "        [0., 1.],\n",
      "        [0., 1.]])\n"
     ]
    },
    {
     "name": "stderr",
     "output_type": "stream",
     "text": [
      "/Users/temporary/anaconda3/envs/torch_mkl/lib/python3.10/site-packages/torch_geometric/deprecation.py:26: UserWarning: 'data.DataLoader' is deprecated, use 'loader.DataLoader' instead\n",
      "  warnings.warn(out)\n"
     ]
    }
   ],
   "source": [
    "# Graph batches\n",
    "\n",
    "batch_size = 2\n",
    "dataloader = torch_geometric.data.DataLoader(dataset, batch_size = batch_size)\n",
    "\n",
    "for data in dataloader:\n",
    "    print(data)\n",
    "    print(data.batch)\n",
    "    print(data.pos)\n",
    "    print(data.x)"
   ]
  },
  {
   "cell_type": "code",
   "execution_count": 17,
   "id": "1f933b63",
   "metadata": {},
   "outputs": [
    {
     "data": {
      "text/plain": [
       "torch.Size([2, 17])"
      ]
     },
     "execution_count": 17,
     "metadata": {},
     "output_type": "execute_result"
    }
   ],
   "source": [
    "data['edge_index'].shape"
   ]
  },
  {
   "cell_type": "code",
   "execution_count": 16,
   "id": "a608c3d0",
   "metadata": {},
   "outputs": [
    {
     "data": {
      "text/plain": [
       "torch.Size([2, 3, 3])"
      ]
     },
     "execution_count": 16,
     "metadata": {},
     "output_type": "execute_result"
    }
   ],
   "source": [
    "data['lattice'].shape"
   ]
  },
  {
   "cell_type": "code",
   "execution_count": 10,
   "id": "69cd10b4",
   "metadata": {},
   "outputs": [
    {
     "ename": "RuntimeError",
     "evalue": "einsum(): subscript n has size 2 for operand 1 which does not broadcast with previously seen size 17",
     "output_type": "error",
     "traceback": [
      "\u001b[0;31m---------------------------------------------------------------------------\u001b[0m",
      "\u001b[0;31mRuntimeError\u001b[0m                              Traceback (most recent call last)",
      "Cell \u001b[0;32mIn[10], line 4\u001b[0m\n\u001b[1;32m      1\u001b[0m \u001b[38;5;66;03m# Calculating the distance assuming pbc\u001b[39;00m\n\u001b[1;32m      2\u001b[0m edge_src, edge_dst \u001b[38;5;241m=\u001b[39m data[\u001b[38;5;124m'\u001b[39m\u001b[38;5;124medge_index\u001b[39m\u001b[38;5;124m'\u001b[39m][\u001b[38;5;241m0\u001b[39m], data[\u001b[38;5;124m'\u001b[39m\u001b[38;5;124medge_index\u001b[39m\u001b[38;5;124m'\u001b[39m][\u001b[38;5;241m1\u001b[39m]\n\u001b[0;32m----> 4\u001b[0m edge_vec \u001b[38;5;241m=\u001b[39m (data[\u001b[38;5;124m'\u001b[39m\u001b[38;5;124mpos\u001b[39m\u001b[38;5;124m'\u001b[39m][edge_dst] \u001b[38;5;241m-\u001b[39m data[\u001b[38;5;124m'\u001b[39m\u001b[38;5;124mpos\u001b[39m\u001b[38;5;124m'\u001b[39m][edge_src] \u001b[38;5;241m+\u001b[39m \u001b[43mtorch\u001b[49m\u001b[38;5;241;43m.\u001b[39;49m\u001b[43meinsum\u001b[49m\u001b[43m(\u001b[49m\u001b[38;5;124;43m'\u001b[39;49m\u001b[38;5;124;43mni,nij->nj\u001b[39;49m\u001b[38;5;124;43m'\u001b[39;49m\u001b[43m,\u001b[49m\u001b[43m \u001b[49m\n\u001b[1;32m      5\u001b[0m \u001b[43m                                                                         \u001b[49m\u001b[43mdata\u001b[49m\u001b[43m[\u001b[49m\u001b[38;5;124;43m'\u001b[39;49m\u001b[38;5;124;43medge_shift\u001b[39;49m\u001b[38;5;124;43m'\u001b[39;49m\u001b[43m]\u001b[49m\u001b[43m,\u001b[49m\u001b[43m \u001b[49m\n\u001b[1;32m      6\u001b[0m \u001b[43m                                                                         \u001b[49m\u001b[43mdata\u001b[49m\u001b[43m[\u001b[49m\u001b[38;5;124;43m'\u001b[39;49m\u001b[38;5;124;43mlattice\u001b[39;49m\u001b[38;5;124;43m'\u001b[39;49m\u001b[43m]\u001b[49m\u001b[43m)\u001b[49m)\n",
      "File \u001b[0;32m~/Documents/GitHub/pytorch-intel-mps/torch/functional.py:378\u001b[0m, in \u001b[0;36meinsum\u001b[0;34m(*args)\u001b[0m\n\u001b[1;32m    373\u001b[0m     \u001b[38;5;28;01mreturn\u001b[39;00m einsum(equation, \u001b[38;5;241m*\u001b[39m_operands)\n\u001b[1;32m    375\u001b[0m \u001b[38;5;28;01mif\u001b[39;00m \u001b[38;5;28mlen\u001b[39m(operands) \u001b[38;5;241m<\u001b[39m\u001b[38;5;241m=\u001b[39m \u001b[38;5;241m2\u001b[39m \u001b[38;5;129;01mor\u001b[39;00m \u001b[38;5;129;01mnot\u001b[39;00m opt_einsum\u001b[38;5;241m.\u001b[39menabled:\n\u001b[1;32m    376\u001b[0m     \u001b[38;5;66;03m# the path for contracting 0 or 1 time(s) is already optimized\u001b[39;00m\n\u001b[1;32m    377\u001b[0m     \u001b[38;5;66;03m# or the user has disabled using opt_einsum\u001b[39;00m\n\u001b[0;32m--> 378\u001b[0m     \u001b[38;5;28;01mreturn\u001b[39;00m \u001b[43m_VF\u001b[49m\u001b[38;5;241;43m.\u001b[39;49m\u001b[43meinsum\u001b[49m\u001b[43m(\u001b[49m\u001b[43mequation\u001b[49m\u001b[43m,\u001b[49m\u001b[43m \u001b[49m\u001b[43moperands\u001b[49m\u001b[43m)\u001b[49m  \u001b[38;5;66;03m# type: ignore[attr-defined]\u001b[39;00m\n\u001b[1;32m    380\u001b[0m path \u001b[38;5;241m=\u001b[39m \u001b[38;5;28;01mNone\u001b[39;00m\n\u001b[1;32m    381\u001b[0m \u001b[38;5;28;01mif\u001b[39;00m opt_einsum\u001b[38;5;241m.\u001b[39mis_available():\n",
      "\u001b[0;31mRuntimeError\u001b[0m: einsum(): subscript n has size 2 for operand 1 which does not broadcast with previously seen size 17"
     ]
    }
   ],
   "source": [
    "# Calculating the distance assuming pbc\n",
    "edge_src, edge_dst = data['edge_index'][0], data['edge_index'][1]\n",
    "\n",
    "edge_vec = (data['pos'][edge_dst] - data['pos'][edge_src] + torch.einsum('ni,nij->nj', \n",
    "                                                                         data['edge_shift'], \n",
    "                                                                         data['lattice'][edge]))"
   ]
  },
  {
   "cell_type": "code",
   "execution_count": 37,
   "id": "041704c4",
   "metadata": {},
   "outputs": [],
   "source": [
    "# Application: preprocessing for gate point network\n",
    "from e3nn.nn.models.v2103.gate_points_networks import SimpleNetwork\n",
    "from typing import Dict, Union\n",
    "import torch_scatter\n",
    "\n",
    "\n",
    "class SimplePeriodic_Network(SimpleNetwork):\n",
    "    def __init__(self, **kwargs) -> None:\n",
    "        \"\"\"The keyword 'pool nodes' is used by SimpleNetwork to determine\n",
    "        whether we sum over all atom contributions per example. In this example,\n",
    "        we want use a mean operations instead, so we will override this behaviour\n",
    "        \"\"\"\n",
    "        \n",
    "        self.pool = False\n",
    "        if kwargs['pool_nodes'] == True:\n",
    "            kwargs['pool_nodes'] = False\n",
    "            kwargs['num_nodes'] = 1.\n",
    "            self.pool = True\n",
    "        super().__init__(**kwargs)\n",
    "        \n",
    "    \n",
    "    # Overwriting preprocess of SimpleNetwork to adapt for periodic boundary data\n",
    "    def preprocess(self, data: Union[torch_geometric.data.Data, Dict[str, torch.Tensor]]) -> torch.Tensor:\n",
    "        if 'batch' in data:\n",
    "            batch = data['batch']\n",
    "        else:\n",
    "            batch = data['pos'].new_zeros(data['pos'].shape[0], dtype = torch.long)\n",
    "        \n",
    "        edge_src = data['edge_index'][0] # Edge source\n",
    "        edge_dst = data['edge_index'][1] # Edge destination\n",
    "        \n",
    "        # We need to compute this in the computation graph to backprop to positions\n",
    "        # We are computing the relative distances + unit cell shifts from periodic boundaries\n",
    "        edge_batch = batch[edge_src]\n",
    "        \n",
    "        print(edge_batch)\n",
    "        print(data['lattice'][edge_batch].shape)\n",
    "        print(data['lattice'].shape)\n",
    "        edge_vec = (data['pos'][edge_dst] \n",
    "                    - data['pos'][edge_src]\n",
    "                    + torch.einsum('ni,nij->nj', data['edge_shift'], data['lattice'][edge_batch]))\n",
    "        \n",
    "        return batch, data['x'], edge_src, edge_dst, edge_vec\n",
    "    \n",
    "    def forward(self, data: Union[torch_geometric.data.Data, Dict[str, torch.Tensor]]) -> torch.Tensor:\n",
    "        # if pool_nodes was set to True, use scatter_mean to aggregate\n",
    "        output = super().forward(data)\n",
    "        if self.pool == True:\n",
    "            return torch_scatter.scatter_mean(output, data.batch, dim = 0) # Take mean over atoms per example\n",
    "        else:\n",
    "            return output"
   ]
  },
  {
   "cell_type": "code",
   "execution_count": 38,
   "id": "82e104d1",
   "metadata": {},
   "outputs": [],
   "source": [
    "# define network\n",
    "net = SimplePeriodic_Network(\n",
    "    irreps_in = \"2x0e\", # one hot scalar (L = 0 and even parity) on each atom to represent atom type\n",
    "    irreps_out = \"1x0e\", # Single scalar (L = 0 and even parity) to output (for example) energy\n",
    "    max_radius = radial_cutoff, # Cutoff radius for convolution\n",
    "    num_neighbors = 10.0, # scaling factor based on the typical number of neighbors\n",
    "    pool_nodes = True # We pool nodes to predict total energy\n",
    ")"
   ]
  },
  {
   "cell_type": "code",
   "execution_count": 39,
   "id": "594fb393",
   "metadata": {},
   "outputs": [
    {
     "name": "stdout",
     "output_type": "stream",
     "text": [
      "tensor([0, 0, 0, 0, 0, 0, 0, 1, 1, 1, 1, 1, 1, 1, 1, 1, 1])\n",
      "torch.Size([17, 3, 3])\n",
      "torch.Size([2, 3, 3])\n",
      "torch.Size([2, 1])\n"
     ]
    }
   ],
   "source": [
    "# Apply to the data\n",
    "for data in dataloader:\n",
    "    print(net(data).shape)"
   ]
  },
  {
   "cell_type": "code",
   "execution_count": null,
   "id": "6fa7ae0f",
   "metadata": {},
   "outputs": [],
   "source": []
  }
 ],
 "metadata": {
  "kernelspec": {
   "display_name": "torch_mkl",
   "language": "python",
   "name": "torch_mkl"
  },
  "language_info": {
   "codemirror_mode": {
    "name": "ipython",
    "version": 3
   },
   "file_extension": ".py",
   "mimetype": "text/x-python",
   "name": "python",
   "nbconvert_exporter": "python",
   "pygments_lexer": "ipython3",
   "version": "3.10.14"
  }
 },
 "nbformat": 4,
 "nbformat_minor": 5
}
