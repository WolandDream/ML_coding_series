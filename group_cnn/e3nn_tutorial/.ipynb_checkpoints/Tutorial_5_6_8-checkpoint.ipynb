{
 "cells": [
  {
   "cell_type": "markdown",
   "id": "6a25bb3a",
   "metadata": {},
   "source": [
    "### Tutorial 5. Equivariant Transformer"
   ]
  },
  {
   "cell_type": "code",
   "execution_count": 73,
   "id": "b8043737",
   "metadata": {},
   "outputs": [],
   "source": [
    "from e3nn import o3, nn\n",
    "import torch\n",
    "from torch_cluster import radius_graph\n",
    "from e3nn.math import soft_one_hot_linspace, soft_unit_step\n",
    "from torch_scatter import scatter\n",
    "import matplotlib.pyplot as plt"
   ]
  },
  {
   "cell_type": "code",
   "execution_count": 74,
   "id": "ab9359e9",
   "metadata": {},
   "outputs": [],
   "source": [
    "# Define irreps for input, query, key, and output\n",
    "# Just define arbitrary irreps\n",
    "irreps_input = o3.Irreps(\"10x0e + 5x1o + 2x2e\")\n",
    "irreps_query = o3.Irreps(\"11x0e + 4x1o\")\n",
    "irreps_key = o3.Irreps(\"12x0e + 3x1o\")\n",
    "irreps_output = o3.Irreps(\"14x0e + 6x1o\") # also irreps of the values"
   ]
  },
  {
   "cell_type": "code",
   "execution_count": 75,
   "id": "fb6aa1a8",
   "metadata": {},
   "outputs": [],
   "source": [
    "num_nodes = 20\n",
    "\n",
    "pos = torch.randn(num_nodes, 3)\n",
    "f = irreps_input.randn(num_nodes, -1)\n",
    "\n",
    "# create graph\n",
    "max_radius = 1.3\n",
    "edge_src, edge_dst = radius_graph(pos, max_radius)\n",
    "edge_vec = pos[edge_src] - pos[edge_dst]\n",
    "edge_length = edge_vec.norm(dim = 1)"
   ]
  },
  {
   "cell_type": "code",
   "execution_count": 76,
   "id": "9f6002f6",
   "metadata": {},
   "outputs": [
    {
     "name": "stderr",
     "output_type": "stream",
     "text": [
      "/Users/temporary/Documents/GitHub/pytorch-intel-mps/torch/jit/_check.py:172: UserWarning: The TorchScript type system doesn't support instance-level annotations on empty non-base types in `__init__`. Instead, either 1) use a type annotation in the class body, or 2) wrap the type in `torch.jit.Attribute`.\n",
      "  warnings.warn(\"The TorchScript type system doesn't support \"\n"
     ]
    }
   ],
   "source": [
    "# Query is linear combination of the inputs\n",
    "h_q = o3.Linear(irreps_input, irreps_query)"
   ]
  },
  {
   "cell_type": "code",
   "execution_count": 77,
   "id": "f6667265",
   "metadata": {},
   "outputs": [],
   "source": [
    "# project edge length on basis\n",
    "number_of_basis = 10\n",
    "edge_length_embedded = soft_one_hot_linspace(\n",
    "    edge_length,\n",
    "    start = 0.0,\n",
    "    end = max_radius,\n",
    "    number = number_of_basis,\n",
    "    basis = 'smooth_finite',\n",
    "    cutoff = True # goes (smoothly) to zero at 'start' and 'end'\n",
    ")\n",
    "\n",
    "edge_length_embedded = edge_length_embedded.mul(number_of_basis**0.5)"
   ]
  },
  {
   "cell_type": "code",
   "execution_count": 78,
   "id": "3d6b8508",
   "metadata": {},
   "outputs": [],
   "source": [
    "# one step before the max radius\n",
    "edge_weight_cutoff = soft_unit_step (10 * (1 - edge_length / max_radius))"
   ]
  },
  {
   "cell_type": "code",
   "execution_count": 79,
   "id": "e3309d4f",
   "metadata": {},
   "outputs": [],
   "source": [
    "irreps_sh = o3.Irreps.spherical_harmonics(3)\n",
    "edge_sh = o3.spherical_harmonics(irreps_sh, edge_vec, True, normalization = 'component')"
   ]
  },
  {
   "cell_type": "code",
   "execution_count": 80,
   "id": "ff1b66a4",
   "metadata": {},
   "outputs": [],
   "source": [
    "# define fully connected layers for the weights\n",
    "# also find value and the key as a product of spherical harmonic and the input\n",
    "\n",
    "tp_k = o3.FullyConnectedTensorProduct(irreps_input, irreps_sh, irreps_key, shared_weights = False)\n",
    "fc_k = nn.FullyConnectedNet([number_of_basis, 16, tp_k.weight_numel], act = torch.nn.functional.silu)\n",
    "\n",
    "\n",
    "tp_v = o3.FullyConnectedTensorProduct(irreps_input, irreps_sh, irreps_output, shared_weights = False)\n",
    "fc_v = nn.FullyConnectedNet([number_of_basis, 16, tp_v.weight_numel], act = torch.nn.functional.silu)"
   ]
  },
  {
   "cell_type": "code",
   "execution_count": 81,
   "id": "4e50cf13",
   "metadata": {},
   "outputs": [],
   "source": [
    "dot = o3.FullyConnectedTensorProduct(irreps_query, irreps_key, \"0e\")"
   ]
  },
  {
   "cell_type": "code",
   "execution_count": 82,
   "id": "4d6d7cba",
   "metadata": {},
   "outputs": [],
   "source": [
    "# compute the queries (per node), keys (per edge) and values (per edge)\n",
    "q = h_q(f)\n",
    "\n",
    "k = tp_k(f[edge_src], edge_sh, fc_k(edge_length_embedded))\n",
    "v = tp_v(f[edge_src], edge_sh, fc_v(edge_length_embedded))\n",
    "\n",
    "# compute the softmax (per edge)\n",
    "exp = edge_weight_cutoff[:, None] * dot(q[edge_dst], k).exp() # compute the nuerator\n",
    "z = scatter(exp, edge_dst, dim = 0, dim_size = len(f)) # compute the denominator (per nodes)\n",
    "z[z == 0] = 1 # to avoid 0/0 when all the neighbors are exactly at the cutoff\n",
    "alpha = exp / z[edge_dst]\n",
    "\n",
    "# compute the outputs (per node)\n",
    "f_out = scatter(alpha.relu().sqrt() * v, edge_dst, dim = 0, dim_size = len(f))"
   ]
  },
  {
   "cell_type": "code",
   "execution_count": 83,
   "id": "f544eb15",
   "metadata": {},
   "outputs": [
    {
     "data": {
      "text/plain": [
       "(-0.010929977521300316, 0.8704848885536194)"
      ]
     },
     "execution_count": 83,
     "metadata": {},
     "output_type": "execute_result"
    }
   ],
   "source": [
    "f_out.mean().item(), f_out.std().item()"
   ]
  },
  {
   "cell_type": "code",
   "execution_count": 84,
   "id": "dd313578",
   "metadata": {},
   "outputs": [],
   "source": [
    "# put together to check smoothness and equivariance\n",
    "def transformer(f, pos):\n",
    "    edge_src, edge_dst = radius_graph(pos, max_radius)\n",
    "    edge_vec = pos[edge_src] - pos[edge_dst]\n",
    "    edge_length = edge_vec.norm(dim = 1) \n",
    "    \n",
    "    # project edge length on basis\n",
    "    number_of_basis = 10\n",
    "    edge_length_embedded = soft_one_hot_linspace(\n",
    "        edge_length,\n",
    "        start = 0.0,\n",
    "        end = max_radius,\n",
    "        number = number_of_basis,\n",
    "        basis = 'smooth_finite',\n",
    "        cutoff = True # goes (smoothly) to zero at 'start' and 'end'\n",
    "    )\n",
    "\n",
    "    edge_length_embedded = edge_length_embedded.mul(number_of_basis**0.5)    \n",
    "    \n",
    "    # one step before the max radius\n",
    "    edge_weight_cutoff = soft_unit_step (10 * (1 - edge_length / max_radius))\n",
    "    \n",
    "    edge_sh = o3.spherical_harmonics(irreps_sh, edge_vec, True, normalization = 'component')\n",
    "    \n",
    "    q = h_q(f)\n",
    "\n",
    "    k = tp_k(f[edge_src], edge_sh, fc_k(edge_length_embedded))\n",
    "    v = tp_v(f[edge_src], edge_sh, fc_v(edge_length_embedded))\n",
    "\n",
    "    # compute the softmax (per edge)\n",
    "    exp = edge_weight_cutoff[:, None] * dot(q[edge_dst], k).exp() # compute the nuerator\n",
    "    z = scatter(exp, edge_dst, dim = 0, dim_size = len(f)) # compute the denominator (per nodes)\n",
    "    z[z == 0] = 1 # to avoid 0/0 when all the neighbors are exactly at the cutoff\n",
    "    alpha = exp / z[edge_dst]\n",
    "\n",
    "    # compute the outputs (per node)\n",
    "    return scatter(alpha.relu().sqrt() * v, edge_dst, dim = 0, dim_size = len(f))"
   ]
  },
  {
   "cell_type": "code",
   "execution_count": 85,
   "id": "58a1ae3f",
   "metadata": {},
   "outputs": [
    {
     "data": {
      "text/plain": [
       "[<matplotlib.lines.Line2D at 0x7f8595a43580>,\n",
       " <matplotlib.lines.Line2D at 0x7f8595a40a30>,\n",
       " <matplotlib.lines.Line2D at 0x7f8595a404c0>,\n",
       " <matplotlib.lines.Line2D at 0x7f85ad46d060>,\n",
       " <matplotlib.lines.Line2D at 0x7f85947af940>]"
      ]
     },
     "execution_count": 85,
     "metadata": {},
     "output_type": "execute_result"
    },
    {
     "data": {
      "image/png": "[encoded data removed]",
      "text/plain": [
       "<Figure size 640x480 with 1 Axes>"
      ]
     },
     "metadata": {},
     "output_type": "display_data"
    }
   ],
   "source": [
    "# Smoothness check\n",
    "f = irreps_input.randn(3, -1)\n",
    "\n",
    "xs = torch.linspace(-1.3, -1.0, 200)\n",
    "outputs = []\n",
    "\n",
    "for x in xs:\n",
    "    pos = torch.tensor([\n",
    "        [0.0, 0.5, 0.0], # this node always sees ...\n",
    "        [0.0, -0.5, 0.0], # ... this node\n",
    "        [x.item(), 0.0, 0.0]  # this node move slowly\n",
    "    ])\n",
    "    \n",
    "    with torch.no_grad():\n",
    "        outputs.append(transformer(f, pos))\n",
    "        \n",
    "outputs = torch.stack(outputs)\n",
    "plt.plot(xs, outputs[:, 0, [0, 1, 14, 15, 16]], 'k') # plot 2 scalars and 1 vector\n",
    "plt.plot(xs, outputs[:, 1, [0, 1, 14, 15, 16]], 'g')\n",
    "plt.plot(xs, outputs[:, 2, [0, 1, 14, 15, 16]], 'r')"
   ]
  },
  {
   "cell_type": "code",
   "execution_count": 86,
   "id": "113c20d7",
   "metadata": {},
   "outputs": [
    {
     "data": {
      "text/plain": [
       "True"
      ]
     },
     "execution_count": 86,
     "metadata": {},
     "output_type": "execute_result"
    }
   ],
   "source": [
    "# Check the equivariance\n",
    "f = irreps_input.randn(10, -1)\n",
    "\n",
    "pos = torch.randn(10, 3)\n",
    "\n",
    "rot = o3.rand_matrix()\n",
    "\n",
    "D_in = irreps_input.D_from_matrix(rot)\n",
    "D_out = irreps_output.D_from_matrix(rot)\n",
    "\n",
    "f_before = transformer(f @ D_in.T, pos @ rot.T)\n",
    "f_after = transformer(f, pos) @ D_out.T\n",
    "\n",
    "torch.allclose(f_before, f_after, atol = 1e-3, rtol = 1e-3)"
   ]
  },
  {
   "cell_type": "code",
   "execution_count": 89,
   "id": "97c1c6da",
   "metadata": {},
   "outputs": [],
   "source": [
    "# Check for backward pass\n",
    "for x in [0.0, 1e-6, max_radius / 2, max_radius - 1e-6, max_radius, max_radius + 1e-6, 2 * max_radius]:\n",
    "    f = irreps_input.randn(2, -1, requires_grad=True)\n",
    "    pos = torch.tensor([\n",
    "        [0.0, 0.0, 0.0],\n",
    "        [x, 0.0, 0.0],\n",
    "    ], requires_grad = True)\n",
    "    transformer(f, pos).sum().backward()\n",
    "    \n",
    "    assert f.grad is None or torch.isfinite(f.grad).all()\n",
    "    assert torch.isfinite(pos.grad).all()"
   ]
  },
  {
   "cell_type": "markdown",
   "id": "6288a947",
   "metadata": {},
   "source": [
    "### Tutorial 6. Equivariance Testing"
   ]
  },
  {
   "cell_type": "code",
   "execution_count": 91,
   "id": "32852cac",
   "metadata": {},
   "outputs": [
    {
     "name": "stderr",
     "output_type": "stream",
     "text": [
      "/Users/temporary/Documents/GitHub/pytorch-intel-mps/torch/jit/_check.py:172: UserWarning: The TorchScript type system doesn't support instance-level annotations on empty non-base types in `__init__`. Instead, either 1) use a type annotation in the class body, or 2) wrap the type in `torch.jit.Attribute`.\n",
      "  warnings.warn(\"The TorchScript type system doesn't support \"\n"
     ]
    },
    {
     "data": {
      "text/plain": [
       "{(0, False): tensor([1.9098e-07]), (1, False): tensor([1.6847e-07])}"
      ]
     },
     "execution_count": 91,
     "metadata": {},
     "output_type": "execute_result"
    }
   ],
   "source": [
    "import e3nn.o3\n",
    "from e3nn.util.test import equivariance_error\n",
    "\n",
    "tp = e3nn.o3.FullyConnectedTensorProduct(\"2x0e + 3x1o\", \"2x0e + 3x1o\", \"2x1o\")\n",
    "\n",
    "equivariance_error(\n",
    "    tp,\n",
    "    args_in=[tp.irreps_in1.randn(1, -1), tp.irreps_in2.randn(1, -1)],\n",
    "    irreps_in=[tp.irreps_in1, tp.irreps_in2],\n",
    "    irreps_out=[tp.irreps_out]\n",
    ")"
   ]
  },
  {
   "cell_type": "code",
   "execution_count": 92,
   "id": "3e8c34a3",
   "metadata": {},
   "outputs": [
    {
     "data": {
      "text/plain": [
       "{(0, False): tensor([1.8171e-07]), (1, False): tensor([1.4888e-07])}"
      ]
     },
     "execution_count": 92,
     "metadata": {},
     "output_type": "execute_result"
    }
   ],
   "source": [
    "from e3nn.util.test import assert_equivariant\n",
    "\n",
    "assert_equivariant(tp)"
   ]
  },
  {
   "cell_type": "code",
   "execution_count": 107,
   "id": "c1aa99d4",
   "metadata": {
    "scrolled": true
   },
   "outputs": [
    {
     "name": "stderr",
     "output_type": "stream",
     "text": [
      "/Users/temporary/Documents/GitHub/pytorch-intel-mps/torch/jit/_check.py:172: UserWarning: The TorchScript type system doesn't support instance-level annotations on empty non-base types in `__init__`. Instead, either 1) use a type annotation in the class body, or 2) wrap the type in `torch.jit.Attribute`.\n",
      "  warnings.warn(\"The TorchScript type system doesn't support \"\n"
     ]
    },
    {
     "data": {
      "text/plain": [
       "{(0, False): tensor([1.5160e-07]),\n",
       " (0, True): tensor([1.7542e-07]),\n",
       " (1, False): tensor([1.5456e-07]),\n",
       " (1, True): tensor([4.0899e-07])}"
      ]
     },
     "execution_count": 107,
     "metadata": {},
     "output_type": "execute_result"
    }
   ],
   "source": [
    "import torch\n",
    "from torch_geometric.data import Data\n",
    "from e3nn.nn.models.v2103.gate_points_networks import SimpleNetwork\n",
    "from e3nn.util.test import assert_equivariant\n",
    "\n",
    "kwargs = {'irreps_in': tp.irreps_in1, 'irreps_out': tp.irreps_out, 'max_radius': 1.3, 'num_neighbors': 10, 'num_nodes': 20}\n",
    "f = SimpleNetwork(**kwargs)\n",
    "\n",
    "def wrapper(pos, x):\n",
    "    data = dict(pos = pos, x = x)\n",
    "    return f(data)\n",
    "\n",
    "assert_equivariant(\n",
    "    wrapper,\n",
    "    irreps_in=['cartesian_points', f.irreps_in],\n",
    "    irreps_out=[f.irreps_out],\n",
    ")"
   ]
  },
  {
   "cell_type": "code",
   "execution_count": 108,
   "id": "734f60c5",
   "metadata": {},
   "outputs": [],
   "source": [
    "def wrapper(pos, x):\n",
    "    data = dict(pos = pos, x = x)\n",
    "    return f(data)"
   ]
  },
  {
   "cell_type": "code",
   "execution_count": 109,
   "id": "9a15d725",
   "metadata": {},
   "outputs": [
    {
     "ename": "NameError",
     "evalue": "name 'my_pos' is not defined",
     "output_type": "error",
     "traceback": [
      "\u001b[0;31m---------------------------------------------------------------------------\u001b[0m",
      "\u001b[0;31mNameError\u001b[0m                                 Traceback (most recent call last)",
      "Cell \u001b[0;32mIn[109], line 4\u001b[0m\n\u001b[1;32m      1\u001b[0m assert_equivariant(\n\u001b[1;32m      2\u001b[0m     wrapper,\n\u001b[1;32m      3\u001b[0m     irreps_in\u001b[38;5;241m=\u001b[39m[\u001b[38;5;124m'\u001b[39m\u001b[38;5;124mcartesian_point\u001b[39m\u001b[38;5;124m'\u001b[39m, f\u001b[38;5;241m.\u001b[39mirreps_in],\n\u001b[0;32m----> 4\u001b[0m     args_in\u001b[38;5;241m=\u001b[39m[\u001b[43mmy_pos\u001b[49m, my_x],\n\u001b[1;32m      5\u001b[0m     irreps_out\u001b[38;5;241m=\u001b[39m[f\u001b[38;5;241m.\u001b[39mirreps_out]\n\u001b[1;32m      6\u001b[0m )\n",
      "\u001b[0;31mNameError\u001b[0m: name 'my_pos' is not defined"
     ]
    }
   ],
   "source": [
    "assert_equivariant(\n",
    "    wrapper,\n",
    "    irreps_in=['cartesian_point', f.irreps_in],\n",
    "    args_in=[my_pos, my_x],\n",
    "    irreps_out=[f.irreps_out]\n",
    ")"
   ]
  },
  {
   "cell_type": "code",
   "execution_count": 110,
   "id": "9ddd77d7",
   "metadata": {},
   "outputs": [
    {
     "ename": "SyntaxError",
     "evalue": "invalid syntax (2420155254.py, line 1)",
     "output_type": "error",
     "traceback": [
      "\u001b[0;36m  Cell \u001b[0;32mIn[110], line 1\u001b[0;36m\u001b[0m\n\u001b[0;31m    pytest tests/ --log-cli-level info\u001b[0m\n\u001b[0m           ^\u001b[0m\n\u001b[0;31mSyntaxError\u001b[0m\u001b[0;31m:\u001b[0m invalid syntax\n"
     ]
    }
   ],
   "source": [
    "pytest tests/ --log-cli-level info"
   ]
  },
  {
   "cell_type": "markdown",
   "id": "eef03786",
   "metadata": {},
   "source": [
    "### Tutorial 8. Change of basis"
   ]
  },
  {
   "cell_type": "code",
   "execution_count": 113,
   "id": "12ce6f9e",
   "metadata": {},
   "outputs": [
    {
     "data": {
      "text/plain": [
       "<matplotlib.colorbar.Colorbar at 0x7f8596139930>"
      ]
     },
     "execution_count": 113,
     "metadata": {},
     "output_type": "execute_result"
    },
    {
     "data": {
      "image/png": "[encoded data removed]",
      "text/plain": [
       "<Figure size 640x480 with 2 Axes>"
      ]
     },
     "metadata": {},
     "output_type": "display_data"
    }
   ],
   "source": [
    "import torch\n",
    "from e3nn import o3\n",
    "import matplotlib.pyplot as plt\n",
    "\n",
    "change_of_coord = torch.tensor([\n",
    "    # this specifies the change of basis yzx -> xyz\n",
    "    [0, 0, 1],\n",
    "    [1., 0., 0.],\n",
    "    [0., 1., 0.]\n",
    "])\n",
    "\n",
    "D = o3.Irrep(2, 1).D_from_matrix(change_of_coord)\n",
    "\n",
    "plt.imshow(D, cmap = \"RdBu\", vmin = -1, vmax = 1)\n",
    "plt.colorbar()"
   ]
  },
  {
   "cell_type": "code",
   "execution_count": null,
   "id": "1aa66d75",
   "metadata": {},
   "outputs": [],
   "source": []
  }
 ],
 "metadata": {
  "kernelspec": {
   "display_name": "torch_mkl",
   "language": "python",
   "name": "torch_mkl"
  },
  "language_info": {
   "codemirror_mode": {
    "name": "ipython",
    "version": 3
   },
   "file_extension": ".py",
   "mimetype": "text/x-python",
   "name": "python",
   "nbconvert_exporter": "python",
   "pygments_lexer": "ipython3",
   "version": "3.10.14"
  }
 },
 "nbformat": 4,
 "nbformat_minor": 5
}
