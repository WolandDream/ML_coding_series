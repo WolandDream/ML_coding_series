{
 "cells": [
  {
   "cell_type": "code",
   "execution_count": 2,
   "id": "b4c13461",
   "metadata": {},
   "outputs": [],
   "source": [
    "import jax\n",
    "import jax.numpy as jnp\n",
    "import time"
   ]
  },
  {
   "cell_type": "markdown",
   "id": "220f5637",
   "metadata": {},
   "source": [
    "## The lambda function"
   ]
  },
  {
   "cell_type": "code",
   "execution_count": 3,
   "id": "83f93699",
   "metadata": {},
   "outputs": [],
   "source": [
    "sq_fn = lambda x: jnp.square(x)"
   ]
  },
  {
   "cell_type": "code",
   "execution_count": 4,
   "id": "fa893605",
   "metadata": {},
   "outputs": [
    {
     "data": {
      "text/plain": [
       "<function __main__.<lambda>(x)>"
      ]
     },
     "execution_count": 4,
     "metadata": {},
     "output_type": "execute_result"
    }
   ],
   "source": [
    "sq_fn"
   ]
  },
  {
   "cell_type": "code",
   "execution_count": 5,
   "id": "d1effa1d",
   "metadata": {},
   "outputs": [
    {
     "data": {
      "text/plain": [
       "Array(9, dtype=int32, weak_type=True)"
      ]
     },
     "execution_count": 5,
     "metadata": {},
     "output_type": "execute_result"
    }
   ],
   "source": [
    "sq_fn(3)"
   ]
  },
  {
   "cell_type": "code",
   "execution_count": 8,
   "id": "e10af3b9",
   "metadata": {},
   "outputs": [],
   "source": [
    "def reg_eq_fn(x):\n",
    "    return jnp.square(x)"
   ]
  },
  {
   "cell_type": "code",
   "execution_count": 9,
   "id": "828170e1",
   "metadata": {},
   "outputs": [
    {
     "data": {
      "text/plain": [
       "<function __main__.reg_eq_fn(x)>"
      ]
     },
     "execution_count": 9,
     "metadata": {},
     "output_type": "execute_result"
    }
   ],
   "source": [
    "reg_eq_fn"
   ]
  },
  {
   "cell_type": "code",
   "execution_count": 11,
   "id": "5f46b116",
   "metadata": {},
   "outputs": [
    {
     "data": {
      "text/plain": [
       "Array(9, dtype=int32, weak_type=True)"
      ]
     },
     "execution_count": 11,
     "metadata": {},
     "output_type": "execute_result"
    }
   ],
   "source": [
    "reg_eq_fn(3)"
   ]
  },
  {
   "cell_type": "markdown",
   "id": "d7f5ce93",
   "metadata": {},
   "source": [
    "## Memory location"
   ]
  },
  {
   "cell_type": "code",
   "execution_count": 12,
   "id": "7133eb61",
   "metadata": {},
   "outputs": [
    {
     "data": {
      "text/plain": [
       "140428313390960"
      ]
     },
     "execution_count": 12,
     "metadata": {},
     "output_type": "execute_result"
    }
   ],
   "source": [
    "id(sq_fn)"
   ]
  },
  {
   "cell_type": "code",
   "execution_count": 13,
   "id": "463a4c5a",
   "metadata": {},
   "outputs": [
    {
     "data": {
      "text/plain": [
       "140428322022448"
      ]
     },
     "execution_count": 13,
     "metadata": {},
     "output_type": "execute_result"
    }
   ],
   "source": [
    "id(reg_eq_fn)"
   ]
  },
  {
   "cell_type": "markdown",
   "id": "8bf70fbc",
   "metadata": {},
   "source": [
    "## Memory comprehension"
   ]
  },
  {
   "cell_type": "code",
   "execution_count": 14,
   "id": "33155393",
   "metadata": {},
   "outputs": [],
   "source": [
    "y_lc = [jnp.square(x) for x in range(5)]"
   ]
  },
  {
   "cell_type": "code",
   "execution_count": 15,
   "id": "e045400e",
   "metadata": {},
   "outputs": [
    {
     "data": {
      "text/plain": [
       "[Array(0, dtype=int32, weak_type=True),\n",
       " Array(1, dtype=int32, weak_type=True),\n",
       " Array(4, dtype=int32, weak_type=True),\n",
       " Array(9, dtype=int32, weak_type=True),\n",
       " Array(16, dtype=int32, weak_type=True)]"
      ]
     },
     "execution_count": 15,
     "metadata": {},
     "output_type": "execute_result"
    }
   ],
   "source": [
    "y_lc"
   ]
  },
  {
   "cell_type": "code",
   "execution_count": 16,
   "id": "e662f43c",
   "metadata": {},
   "outputs": [],
   "source": [
    "y_reg = []\n",
    "for x in range(5):\n",
    "    y_reg.append(jnp.square(x))"
   ]
  },
  {
   "cell_type": "code",
   "execution_count": 17,
   "id": "b988fe61",
   "metadata": {},
   "outputs": [
    {
     "data": {
      "text/plain": [
       "[Array(0, dtype=int32, weak_type=True),\n",
       " Array(1, dtype=int32, weak_type=True),\n",
       " Array(4, dtype=int32, weak_type=True),\n",
       " Array(9, dtype=int32, weak_type=True),\n",
       " Array(16, dtype=int32, weak_type=True)]"
      ]
     },
     "execution_count": 17,
     "metadata": {},
     "output_type": "execute_result"
    }
   ],
   "source": [
    "y_reg"
   ]
  },
  {
   "cell_type": "markdown",
   "id": "099c22d3",
   "metadata": {},
   "source": [
    "## The enumerate operation"
   ]
  },
  {
   "cell_type": "code",
   "execution_count": 18,
   "id": "80d5b912",
   "metadata": {},
   "outputs": [
    {
     "name": "stdout",
     "output_type": "stream",
     "text": [
      "0 0 0\n",
      "1 2 1\n",
      "2 4 4\n",
      "3 6 9\n",
      "4 8 16\n"
     ]
    }
   ],
   "source": [
    "for idx, item in enumerate(y_lc):\n",
    "    print(idx, 2*idx, item)"
   ]
  },
  {
   "cell_type": "markdown",
   "id": "d549b420",
   "metadata": {},
   "source": [
    "## Zip object"
   ]
  },
  {
   "cell_type": "code",
   "execution_count": 19,
   "id": "1d901046",
   "metadata": {},
   "outputs": [],
   "source": [
    "list_one = [1, 2, 3]\n",
    "list_two = [99, 98, 97]\n",
    "zip_obj = zip(list_one, list_two)"
   ]
  },
  {
   "cell_type": "code",
   "execution_count": 21,
   "id": "9666c36d",
   "metadata": {},
   "outputs": [
    {
     "data": {
      "text/plain": [
       "zip"
      ]
     },
     "execution_count": 21,
     "metadata": {},
     "output_type": "execute_result"
    }
   ],
   "source": [
    "type(zip_obj)"
   ]
  },
  {
   "cell_type": "code",
   "execution_count": 22,
   "id": "69187b4d",
   "metadata": {},
   "outputs": [
    {
     "name": "stdout",
     "output_type": "stream",
     "text": [
      "1 99 100\n",
      "2 98 100\n",
      "3 97 100\n"
     ]
    }
   ],
   "source": [
    "for tuple_obj in zip_obj:\n",
    "    (num_1, num_2) = tuple_obj\n",
    "    print(num_1, num_2, num_1 + num_2)"
   ]
  },
  {
   "cell_type": "markdown",
   "id": "ecc9994a",
   "metadata": {},
   "source": [
    "## Decorators and just-in-time (jit) compilers in JAX"
   ]
  },
  {
   "cell_type": "code",
   "execution_count": 23,
   "id": "1ab870a0",
   "metadata": {},
   "outputs": [],
   "source": [
    "def decorator(func):\n",
    "    def wrapper():\n",
    "        print(\"Something is happerinning before the function is called.\")\n",
    "        func()\n",
    "        print(\"Something is happerinning after the function is called.\")\n",
    "        \n",
    "    return wrapper"
   ]
  },
  {
   "cell_type": "code",
   "execution_count": 24,
   "id": "70af206a",
   "metadata": {},
   "outputs": [],
   "source": [
    "def print_hello_world():\n",
    "    print(\"hello world!\")"
   ]
  },
  {
   "cell_type": "code",
   "execution_count": 25,
   "id": "5e85179f",
   "metadata": {},
   "outputs": [],
   "source": [
    "@decorator\n",
    "def print_hi_world():\n",
    "    print(\"hi world!\")"
   ]
  },
  {
   "cell_type": "code",
   "execution_count": 26,
   "id": "8e9a3bf6",
   "metadata": {},
   "outputs": [
    {
     "name": "stdout",
     "output_type": "stream",
     "text": [
      "hello world!\n"
     ]
    }
   ],
   "source": [
    "print_hello_world()"
   ]
  },
  {
   "cell_type": "code",
   "execution_count": 27,
   "id": "f31365ca",
   "metadata": {},
   "outputs": [
    {
     "name": "stdout",
     "output_type": "stream",
     "text": [
      "Something is happerinning before the function is called.\n",
      "hi world!\n",
      "Something is happerinning after the function is called.\n"
     ]
    }
   ],
   "source": [
    "print_hi_world()"
   ]
  },
  {
   "cell_type": "markdown",
   "id": "44ebc088",
   "metadata": {},
   "source": [
    "## Array slicing"
   ]
  },
  {
   "cell_type": "code",
   "execution_count": 28,
   "id": "c9c08920",
   "metadata": {},
   "outputs": [],
   "source": [
    "array_example = [1, 2, 3, 4, 5]"
   ]
  },
  {
   "cell_type": "code",
   "execution_count": 29,
   "id": "69007fec",
   "metadata": {},
   "outputs": [
    {
     "data": {
      "text/plain": [
       "[1, 2, 3]"
      ]
     },
     "execution_count": 29,
     "metadata": {},
     "output_type": "execute_result"
    }
   ],
   "source": [
    "array_example[:3]"
   ]
  },
  {
   "cell_type": "code",
   "execution_count": 30,
   "id": "53f5a274",
   "metadata": {},
   "outputs": [
    {
     "data": {
      "text/plain": [
       "[3, 4]"
      ]
     },
     "execution_count": 30,
     "metadata": {},
     "output_type": "execute_result"
    }
   ],
   "source": [
    "array_example[2:4]"
   ]
  },
  {
   "cell_type": "code",
   "execution_count": 31,
   "id": "b60769f2",
   "metadata": {},
   "outputs": [
    {
     "data": {
      "text/plain": [
       "[1, 2, 3, 4]"
      ]
     },
     "execution_count": 31,
     "metadata": {},
     "output_type": "execute_result"
    }
   ],
   "source": [
    "array_example[:-1]"
   ]
  },
  {
   "cell_type": "markdown",
   "id": "7fed6886",
   "metadata": {},
   "source": [
    "## Type hints"
   ]
  },
  {
   "cell_type": "code",
   "execution_count": 32,
   "id": "a3411f55",
   "metadata": {},
   "outputs": [],
   "source": [
    "def add_two_integers(first_num: int, second_num: int) -> int:\n",
    "    return first_num + second_num"
   ]
  },
  {
   "cell_type": "code",
   "execution_count": 33,
   "id": "4ce49c0e",
   "metadata": {},
   "outputs": [
    {
     "data": {
      "text/plain": [
       "3"
      ]
     },
     "execution_count": 33,
     "metadata": {},
     "output_type": "execute_result"
    }
   ],
   "source": [
    "add_two_integers(1, 2)"
   ]
  },
  {
   "cell_type": "code",
   "execution_count": 34,
   "id": "78ed24be",
   "metadata": {},
   "outputs": [
    {
     "data": {
      "text/plain": [
       "3.3000000000000003"
      ]
     },
     "execution_count": 34,
     "metadata": {},
     "output_type": "execute_result"
    }
   ],
   "source": [
    "add_two_integers(1.1, 2.2)"
   ]
  },
  {
   "cell_type": "markdown",
   "id": "753ba277",
   "metadata": {},
   "source": [
    "## Random keys in JAX"
   ]
  },
  {
   "cell_type": "code",
   "execution_count": 35,
   "id": "76eec349",
   "metadata": {},
   "outputs": [],
   "source": [
    "key = jax.random.PRNGKey(0)"
   ]
  },
  {
   "cell_type": "code",
   "execution_count": 36,
   "id": "2c335715",
   "metadata": {},
   "outputs": [],
   "source": [
    "key, new_key = jax.random.split(key)"
   ]
  },
  {
   "cell_type": "markdown",
   "id": "cae64ce7",
   "metadata": {},
   "source": [
    "## Vectorized mapping orvap in JAX"
   ]
  },
  {
   "cell_type": "code",
   "execution_count": 47,
   "id": "bb588ddd",
   "metadata": {},
   "outputs": [],
   "source": [
    "def vec_norm(vec):\n",
    "    x = vec[0]\n",
    "    y = vec[1]\n",
    "    n = jnp.square(x) + jnp.square(y)\n",
    "    return n"
   ]
  },
  {
   "cell_type": "code",
   "execution_count": 48,
   "id": "75574450",
   "metadata": {},
   "outputs": [],
   "source": [
    "theta = jnp.linspace(0, jnp.pi, 100000)\n",
    "x = jnp.cos(theta).reshape(-1, 1)\n",
    "y = jnp.sin(theta).reshape(-1, 1)\n",
    "\n",
    "vecs = jnp.concatenate((x, y), axis = 1)"
   ]
  },
  {
   "cell_type": "code",
   "execution_count": 50,
   "id": "b2082210",
   "metadata": {},
   "outputs": [],
   "source": [
    "start_time_reg = time.time()\n",
    "list_norm_reg = [vec_norm(vec) for vec in vecs]\n",
    "end_time_reg = time.time()\n",
    "exec_time_reg = end_time_reg - start_time_reg"
   ]
  },
  {
   "cell_type": "code",
   "execution_count": 51,
   "id": "388df256",
   "metadata": {},
   "outputs": [],
   "source": [
    "start_time_vm = time.time()\n",
    "list_norm_vm = jax.vmap(vec_norm)(vecs)\n",
    "end_time_vm = time.time()\n",
    "exec_time_vm = end_time_vm - start_time_vm"
   ]
  },
  {
   "cell_type": "code",
   "execution_count": 52,
   "id": "6a178b89",
   "metadata": {},
   "outputs": [
    {
     "name": "stdout",
     "output_type": "stream",
     "text": [
      "execution time (regular): 25.31 seconds\n",
      "execution time (vmap): 0.09 seconds\n"
     ]
    }
   ],
   "source": [
    "print(f\"execution time (regular): {round(exec_time_reg, 2)} seconds\")\n",
    "print(f\"execution time (vmap): {round(exec_time_vm, 2)} seconds\")"
   ]
  },
  {
   "cell_type": "markdown",
   "id": "dc0e1d42",
   "metadata": {},
   "source": [
    "## Automatic differentiation using jacrev in JAX"
   ]
  },
  {
   "cell_type": "code",
   "execution_count": 60,
   "id": "38e1ca56",
   "metadata": {},
   "outputs": [],
   "source": [
    "dr_dt = jax.jacrev(lambda t: jnp.array([t, jnp.square(t)]))"
   ]
  },
  {
   "cell_type": "code",
   "execution_count": 61,
   "id": "efda8ba1",
   "metadata": {},
   "outputs": [],
   "source": [
    "t_val = jnp.linspace(0, 2, 10)"
   ]
  },
  {
   "cell_type": "code",
   "execution_count": 62,
   "id": "f48a7dbb",
   "metadata": {},
   "outputs": [
    {
     "data": {
      "text/plain": [
       "Array(0., dtype=float32)"
      ]
     },
     "execution_count": 62,
     "metadata": {},
     "output_type": "execute_result"
    }
   ],
   "source": [
    "t_val[0]"
   ]
  },
  {
   "cell_type": "code",
   "execution_count": 63,
   "id": "50d29e50",
   "metadata": {},
   "outputs": [
    {
     "data": {
      "text/plain": [
       "Array([1., 0.], dtype=float32)"
      ]
     },
     "execution_count": 63,
     "metadata": {},
     "output_type": "execute_result"
    }
   ],
   "source": [
    "dr_dt(t_val[0])"
   ]
  },
  {
   "cell_type": "code",
   "execution_count": 64,
   "id": "e20cd7a6",
   "metadata": {},
   "outputs": [],
   "source": [
    "dr_dt_vec = jax.vmap(dr_dt)"
   ]
  },
  {
   "cell_type": "code",
   "execution_count": 65,
   "id": "d91882bf",
   "metadata": {},
   "outputs": [
    {
     "data": {
      "text/plain": [
       "Array([[1.        , 0.        ],\n",
       "       [1.        , 0.44444445],\n",
       "       [1.        , 0.8888889 ],\n",
       "       [1.        , 1.3333334 ],\n",
       "       [1.        , 1.7777778 ],\n",
       "       [1.        , 2.2222223 ],\n",
       "       [1.        , 2.6666667 ],\n",
       "       [1.        , 3.1111112 ],\n",
       "       [1.        , 3.5555556 ],\n",
       "       [1.        , 4.        ]], dtype=float32)"
      ]
     },
     "execution_count": 65,
     "metadata": {},
     "output_type": "execute_result"
    }
   ],
   "source": [
    "dr_dt_vec(t_val)"
   ]
  },
  {
   "cell_type": "markdown",
   "id": "f80df6c0",
   "metadata": {},
   "source": [
    "## OOP basics"
   ]
  },
  {
   "cell_type": "code",
   "execution_count": 70,
   "id": "556a127f",
   "metadata": {},
   "outputs": [],
   "source": [
    "class TimeStep:\n",
    "    def __init__(self, position, velocity):\n",
    "        self.position = position\n",
    "        self.velocity = velocity\n",
    "        self.dt = 0.01\n",
    "        \n",
    "        \n",
    "    def move(self):\n",
    "        new_x = self.position[0] + self.velocity[0] * self.dt\n",
    "        new_y = self.position[1] + self.velocity[1] * self.dt\n",
    "        \n",
    "        self.position = (new_x, new_y)\n",
    "        \n",
    "    def __call__(self):\n",
    "        self.move()\n",
    "        return self.position\n",
    "    \n",
    "    \n",
    "class Motion(TimeStep):\n",
    "    def __init__(self, position, velocity):\n",
    "        super().__init__(position, velocity)\n",
    "        \n",
    "    def compute_trajectory(self, tf):\n",
    "        vx = 1.\n",
    "        t = 0.\n",
    "        \n",
    "        while t < tf:\n",
    "            self.move()\n",
    "            t += self.dt\n",
    "            vy = 2 * t\n",
    "            self.velocity = (vx, vy)\n",
    "            \n",
    "            \n",
    "    def __call__(self, tf):\n",
    "        self.compute_trajectory(tf)\n",
    "        return self.position"
   ]
  },
  {
   "cell_type": "code",
   "execution_count": 71,
   "id": "88757aef",
   "metadata": {},
   "outputs": [
    {
     "name": "stdout",
     "output_type": "stream",
     "text": [
      "Projectile position after 2 seconds: (2.0, 3.98)\n"
     ]
    }
   ],
   "source": [
    "projectile = Motion(position=(0.0, 0.0), velocity=(1.0, 0.0))\n",
    "projectile_position_after_2s = projectile(tf = 2.)\n",
    "print(f\"Projectile position after 2 seconds: {round(projectile_position_after_2s[0], 2), round(projectile_position_after_2s[1], 2)}\")\n"
   ]
  },
  {
   "cell_type": "code",
   "execution_count": null,
   "id": "03060ab8",
   "metadata": {},
   "outputs": [],
   "source": []
  }
 ],
 "metadata": {
  "kernelspec": {
   "display_name": "Python 3 (ipykernel)",
   "language": "python",
   "name": "python3"
  },
  "language_info": {
   "codemirror_mode": {
    "name": "ipython",
    "version": 3
   },
   "file_extension": ".py",
   "mimetype": "text/x-python",
   "name": "python",
   "nbconvert_exporter": "python",
   "pygments_lexer": "ipython3",
   "version": "3.9.7"
  }
 },
 "nbformat": 4,
 "nbformat_minor": 5
}
