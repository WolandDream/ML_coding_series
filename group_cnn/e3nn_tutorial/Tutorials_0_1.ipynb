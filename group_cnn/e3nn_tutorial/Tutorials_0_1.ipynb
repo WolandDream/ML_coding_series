{
 "cells": [
  {
   "cell_type": "markdown",
   "id": "4a1baabc",
   "metadata": {},
   "source": [
    "### Tutorial 0. Install"
   ]
  },
  {
   "cell_type": "code",
   "execution_count": null,
   "id": "d11ed8a8",
   "metadata": {},
   "outputs": [
    {
     "name": "stdout",
     "output_type": "stream",
     "text": [
      "Looking in links: https://pytorch-geometric.com/whl/torch-+.html\n",
      "Collecting torch-sparse\n",
      "  Downloading torch_sparse-0.6.18.tar.gz (209 kB)\n",
      "\u001b[K     |████████████████████████████████| 209 kB 8.3 MB/s eta 0:00:01\n",
      "\u001b[?25hCollecting scipy\n",
      "  Downloading scipy-1.13.1-cp39-cp39-macosx_10_9_x86_64.whl (39.4 MB)\n",
      "\u001b[K     |████████████████████████████████| 39.4 MB 14.9 MB/s eta 0:00:01    |██                              | 2.4 MB 12.5 MB/s eta 0:00:03\n",
      "\u001b[?25hCollecting numpy<2.3,>=1.22.4\n",
      "  Using cached numpy-2.0.2-cp39-cp39-macosx_10_9_x86_64.whl (21.2 MB)\n",
      "Building wheels for collected packages: torch-sparse\n",
      "  Building wheel for torch-sparse (setup.py) ... \u001b[?25l/^C\n",
      "\u001b[?25canceled\n",
      "\u001b[31mERROR: Operation cancelled by user\u001b[0m\n",
      "^C\n",
      "Traceback (most recent call last):\n",
      "  File \"/Users/temporary/anaconda3/bin/pip\", line 7, in <module>\n",
      "    from pip._internal.cli.main import main\n",
      "  File \"/Users/temporary/anaconda3/lib/python3.9/site-packages/pip/_internal/cli/main.py\", line 9, in <module>\n",
      "    from pip._internal.cli.autocompletion import autocomplete\n",
      "  File \"/Users/temporary/anaconda3/lib/python3.9/site-packages/pip/_internal/cli/autocompletion.py\", line 10, in <module>\n",
      "    from pip._internal.cli.main_parser import create_main_parser\n",
      "  File \"/Users/temporary/anaconda3/lib/python3.9/site-packages/pip/_internal/cli/main_parser.py\", line 8, in <module>\n",
      "    from pip._internal.cli import cmdoptions\n",
      "  File \"/Users/temporary/anaconda3/lib/python3.9/site-packages/pip/_internal/cli/cmdoptions.py\", line 23, in <module>\n",
      "    from pip._internal.cli.parser import ConfigOptionParser\n",
      "  File \"/Users/temporary/anaconda3/lib/python3.9/site-packages/pip/_internal/cli/parser.py\", line 12, in <module>\n",
      "    from pip._internal.configuration import Configuration, ConfigurationError\n",
      "  File \"/Users/temporary/anaconda3/lib/python3.9/site-packages/pip/_internal/configuration.py\", line 21, in <module>\n",
      "    from pip._internal.exceptions import (\n",
      "  File \"/Users/temporary/anaconda3/lib/python3.9/site-packages/pip/_internal/exceptions.py\", line 8, in <module>\n",
      "    from pip._vendor.requests.models import Request, Response\n",
      "  File \"/Users/temporary/anaconda3/lib/python3.9/site-packages/pip/_vendor/requests/__init__.py\", line 136, in <module>\n",
      "    from . import packages\n",
      "  File \"<frozen importlib._bootstrap>\", line 1007, in _find_and_load\n",
      "  File \"<frozen importlib._bootstrap>\", line 986, in _find_and_load_unlocked\n",
      "  File \"<frozen importlib._bootstrap>\", line 680, in _load_unlocked\n",
      "  File \"<frozen importlib._bootstrap_external>\", line 846, in exec_module\n",
      "  File \"<frozen importlib._bootstrap_external>\", line 941, in get_code\n",
      "  File \"<frozen importlib._bootstrap_external>\", line 1040, in get_data\n",
      "KeyboardInterrupt\n",
      "Looking in links: https://pytorch-geometric.com/whl/torch-+.html\n",
      "Collecting torch-spline-conv\n",
      "  Downloading torch_spline_conv-1.2.2.tar.gz (25 kB)\n",
      "Building wheels for collected packages: torch-spline-conv\n",
      "  Building wheel for torch-spline-conv (setup.py) ... \u001b[?25l-"
     ]
    }
   ],
   "source": [
    "!CUDA=cpu\n",
    "!pip install --upgrade --force-reinstall torch-sparse -f https://pytorch-geometric.com/whl/torch-$TORCH+$CUDA.html\n",
    "!pip install --upgrade --force-reinstall torch-cluster -f https://pytorch-geometric.com/whl/torch-$TORCH+$CUDA.html\n",
    "!pip install --upgrade --force-reinstall torch-spline-conv -f https://pytorch-geometric.com/whl/torch-$TORCH+$CUDA.html\n",
    "!pip install torch-geometric"
   ]
  },
  {
   "cell_type": "code",
   "execution_count": 1,
   "id": "7e22a4c4",
   "metadata": {},
   "outputs": [
    {
     "name": "stdout",
     "output_type": "stream",
     "text": [
      "Collecting e3nn\n",
      "  Downloading e3nn-0.5.1-py3-none-any.whl (118 kB)\n",
      "\u001b[K     |████████████████████████████████| 118 kB 9.5 MB/s eta 0:00:01\n",
      "\u001b[?25hRequirement already satisfied: scipy in /Users/temporary/anaconda3/lib/python3.9/site-packages (from e3nn) (1.9.3)\n",
      "Requirement already satisfied: torch>=1.8.0 in /Users/temporary/anaconda3/lib/python3.9/site-packages (from e3nn) (2.0.1)\n",
      "Collecting opt-einsum-fx>=0.1.4\n",
      "  Downloading opt_einsum_fx-0.1.4-py3-none-any.whl (13 kB)\n",
      "Requirement already satisfied: sympy in /Users/temporary/anaconda3/lib/python3.9/site-packages (from e3nn) (1.9)\n",
      "Requirement already satisfied: opt-einsum in /Users/temporary/anaconda3/lib/python3.9/site-packages (from opt-einsum-fx>=0.1.4->e3nn) (3.3.0)\n",
      "Requirement already satisfied: packaging in /Users/temporary/anaconda3/lib/python3.9/site-packages (from opt-einsum-fx>=0.1.4->e3nn) (21.0)\n",
      "Requirement already satisfied: jinja2 in /Users/temporary/anaconda3/lib/python3.9/site-packages (from torch>=1.8.0->e3nn) (2.11.3)\n",
      "Requirement already satisfied: typing-extensions in /Users/temporary/anaconda3/lib/python3.9/site-packages (from torch>=1.8.0->e3nn) (4.12.2)\n",
      "Requirement already satisfied: filelock in /Users/temporary/anaconda3/lib/python3.9/site-packages (from torch>=1.8.0->e3nn) (3.3.1)\n",
      "Requirement already satisfied: networkx in /Users/temporary/anaconda3/lib/python3.9/site-packages (from torch>=1.8.0->e3nn) (3.2.1)\n",
      "Requirement already satisfied: MarkupSafe>=0.23 in /Users/temporary/anaconda3/lib/python3.9/site-packages (from jinja2->torch>=1.8.0->e3nn) (2.0.1)\n",
      "Requirement already satisfied: numpy>=1.7 in /Users/temporary/anaconda3/lib/python3.9/site-packages (from opt-einsum->opt-einsum-fx>=0.1.4->e3nn) (1.23.5)\n",
      "Requirement already satisfied: pyparsing>=2.0.2 in /Users/temporary/anaconda3/lib/python3.9/site-packages (from packaging->opt-einsum-fx>=0.1.4->e3nn) (3.0.4)\n",
      "Requirement already satisfied: mpmath>=0.19 in /Users/temporary/anaconda3/lib/python3.9/site-packages (from sympy->e3nn) (1.2.1)\n",
      "Installing collected packages: opt-einsum-fx, e3nn\n",
      "Successfully installed e3nn-0.5.1 opt-einsum-fx-0.1.4\n"
     ]
    }
   ],
   "source": [
    "!pip install e3nn"
   ]
  },
  {
   "cell_type": "markdown",
   "id": "9df18993",
   "metadata": {},
   "source": [
    "### Tutorial 1. Irreps"
   ]
  },
  {
   "cell_type": "code",
   "execution_count": 3,
   "id": "515cfc26",
   "metadata": {},
   "outputs": [],
   "source": [
    "from e3nn.o3 import Irreps"
   ]
  },
  {
   "cell_type": "code",
   "execution_count": 4,
   "id": "6756ced8",
   "metadata": {},
   "outputs": [
    {
     "data": {
      "text/plain": [
       "1x1o"
      ]
     },
     "execution_count": 4,
     "metadata": {},
     "output_type": "execute_result"
    }
   ],
   "source": [
    "irreps = Irreps(\"1o\")\n",
    "irreps"
   ]
  },
  {
   "cell_type": "code",
   "execution_count": 5,
   "id": "170d5826",
   "metadata": {},
   "outputs": [
    {
     "name": "stdout",
     "output_type": "stream",
     "text": [
      "1\n",
      "1x1o\n",
      "2\n",
      "1\n",
      "1o\n",
      "1 -1\n"
     ]
    }
   ],
   "source": [
    "# Tuple [Tuple[int, Tuple[int, int]]]\n",
    "\n",
    "print(len(irreps))\n",
    "mul_ir = irreps[0] # a tubple\n",
    "\n",
    "print(mul_ir)\n",
    "print(len(mul_ir))\n",
    "mul = mul_ir[0] # an int\n",
    "ir = mul_ir[1] # another tuple\n",
    "\n",
    "print(mul)\n",
    "\n",
    "print(ir)\n",
    "# print(len(ir)) ir is a tuple of 2 ints but __len__ has been disabled since it is always 2\n",
    "l = ir[0]\n",
    "p = ir[1]\n",
    "\n",
    "print(l, p)"
   ]
  },
  {
   "cell_type": "code",
   "execution_count": 9,
   "id": "0c7b88a4",
   "metadata": {},
   "outputs": [
    {
     "data": {
      "text/plain": [
       "tensor([[1., 0., 0.],\n",
       "        [0., 1., 0.],\n",
       "        [0., 0., 1.]])"
      ]
     },
     "execution_count": 9,
     "metadata": {},
     "output_type": "execute_result"
    }
   ],
   "source": [
    "import torch\n",
    "t = torch.tensor\n",
    "\n",
    "# show the transformation matrix corresponding to the inversion\n",
    "irreps.D_from_angles(alpha=t(0.0), beta = t(0.0), gamma = t(0.0), k = t(0))"
   ]
  },
  {
   "cell_type": "code",
   "execution_count": 10,
   "id": "a65989ab",
   "metadata": {},
   "outputs": [
    {
     "data": {
      "text/plain": [
       "tensor([[ 0.9950,  0.0000,  0.0998],\n",
       "        [ 0.0000,  1.0000,  0.0000],\n",
       "        [-0.0998,  0.0000,  0.9950]])"
      ]
     },
     "execution_count": 10,
     "metadata": {},
     "output_type": "execute_result"
    }
   ],
   "source": [
    "# a small rotation around the y axis\n",
    "irreps.D_from_angles(alpha=t(0.1), beta = t(0.0), gamma = t(0.0), k = t(0))"
   ]
  },
  {
   "cell_type": "code",
   "execution_count": 11,
   "id": "bcdf3635",
   "metadata": {},
   "outputs": [],
   "source": [
    "# the irreps tell us how 7 scalars, 3 pseudoscalars, 5 vectors and 5 odd representation of l=2 transforms. \n",
    "# They all transforms independently, this can be seen by visualizing the matrix\n",
    "irreps = Irreps(\"7x0e + 3x0o + 5x1o + 5x2o\")"
   ]
  },
  {
   "cell_type": "code",
   "execution_count": 12,
   "id": "d1a26f75",
   "metadata": {},
   "outputs": [
    {
     "data": {
      "text/plain": [
       "<matplotlib.image.AxesImage at 0x7fecd27f7fd0>"
      ]
     },
     "execution_count": 12,
     "metadata": {},
     "output_type": "execute_result"
    },
    {
     "data": {
      "image/png": "[encoded data removed]",
      "text/plain": [
       "<Figure size 640x480 with 1 Axes>"
      ]
     },
     "metadata": {},
     "output_type": "display_data"
    }
   ],
   "source": [
    "from e3nn import o3\n",
    "\n",
    "rot = -o3.rand_matrix()\n",
    "\n",
    "D = irreps.D_from_matrix(rot)\n",
    "\n",
    "import matplotlib.pyplot as plt\n",
    "\n",
    "plt.imshow(D, cmap = 'bwr', vmin = -1, vmax = 1)"
   ]
  },
  {
   "cell_type": "code",
   "execution_count": null,
   "id": "91e396c2",
   "metadata": {},
   "outputs": [],
   "source": []
  }
 ],
 "metadata": {
  "kernelspec": {
   "display_name": "torch_mkl",
   "language": "python",
   "name": "torch_mkl"
  },
  "language_info": {
   "codemirror_mode": {
    "name": "ipython",
    "version": 3
   },
   "file_extension": ".py",
   "mimetype": "text/x-python",
   "name": "python",
   "nbconvert_exporter": "python",
   "pygments_lexer": "ipython3",
   "version": "3.10.14"
  }
 },
 "nbformat": 4,
 "nbformat_minor": 5
}
